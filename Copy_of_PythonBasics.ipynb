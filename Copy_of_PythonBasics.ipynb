{
  "nbformat": 4,
  "nbformat_minor": 0,
  "metadata": {
    "colab": {
      "provenance": [],
      "authorship_tag": "ABX9TyPrcXvKXnbkl+uGE6t4677+",
      "include_colab_link": true
    },
    "kernelspec": {
      "name": "python3",
      "display_name": "Python 3"
    },
    "language_info": {
      "name": "python"
    }
  },
  "cells": [
    {
      "cell_type": "markdown",
      "metadata": {
        "id": "view-in-github",
        "colab_type": "text"
      },
      "source": [
        "<a href=\"https://colab.research.google.com/github/EnaDas2004/Python-Intro/blob/main/Copy_of_PythonBasics.ipynb\" target=\"_parent\"><img src=\"https://colab.research.google.com/assets/colab-badge.svg\" alt=\"Open In Colab\"/></a>"
      ]
    },
    {
      "cell_type": "markdown",
      "source": [
        "### This Notebook Shows Python Basics\n",
        "Colab & Jupyter provides the ability to. make **notebooks**. Notebooks alow you to creat *text* and *code* cells. Text cells support MarkDown. Code cells require python.\n",
        "**Python Datatypes**\n",
        "* int\n",
        "* str\n",
        "* float\n",
        "* bool"
      ],
      "metadata": {
        "id": "rQbjyhuG9pYl"
      }
    },
    {
      "cell_type": "code",
      "execution_count": null,
      "metadata": {
        "colab": {
          "base_uri": "https://localhost:8080/"
        },
        "id": "_HAw31XK5EXd",
        "outputId": "836e7090-01f5-45d0-e18f-0f22b75ed4e0"
      },
      "outputs": [
        {
          "output_type": "stream",
          "name": "stdout",
          "text": [
            "Hello World!\n"
          ]
        }
      ],
      "source": [
        "print('Hello World!')"
      ]
    },
    {
      "cell_type": "markdown",
      "source": [
        "### AI AGENT NOTES\n",
        "**the representation problem** - how to orepresent a problem in programming language."
      ],
      "metadata": {
        "id": "2xHTcYJlCYyi"
      }
    },
    {
      "cell_type": "code",
      "source": [
        "farmer_on_top = True\n"
      ],
      "metadata": {
        "id": "B1OviQmr8t1R"
      },
      "execution_count": null,
      "outputs": []
    },
    {
      "cell_type": "code",
      "source": [
        "x = 5\n",
        "s = 'hello'\n",
        "temp = 98.6\n",
        "iAmSam = False\n",
        "y = '98.6'\n",
        "print(x + temp)\n"
      ],
      "metadata": {
        "id": "f5NyXRkyNNTw"
      },
      "execution_count": null,
      "outputs": []
    },
    {
      "cell_type": "markdown",
      "source": [
        "# Python Collection Types\n",
        "\n",
        "\n",
        "*   list - ordered, indexed, like an arrat, mutable\n",
        "*   tuple - immuatable list\n",
        "*   dict - a hashtable, a set og key, value data pairs\n",
        "\n",
        "\n"
      ],
      "metadata": {
        "id": "1m8AajkQN4mJ"
      }
    },
    {
      "cell_type": "code",
      "source": [
        "my_list = ['I', 'love', 'CIS']\n",
        "my_list2 = [3, 'hello', 'frogs', 4.3, True]\n",
        "my_tuple = ('Purple', 'Eagles')\n",
        "\n",
        "example_dict = {'triangle':3, 'square':4, 'septagon':7}\n",
        "example_dict['decagon'] = 10\n",
        "print(example_dict['septagon'])"
      ],
      "metadata": {
        "id": "mdCC479EOWf7"
      },
      "execution_count": null,
      "outputs": []
    },
    {
      "cell_type": "markdown",
      "source": [
        "# The Representation Problem\n",
        "How do we code states and actions of a real world problem in a programmiing language\n",
        "\n",
        "**PEAS**\n",
        "\n",
        "\n",
        "*   Performance measure\n",
        "*   Environment\n",
        "          \n",
        "          - incldues state and\n",
        "          - rules fo rhow actions update the state\n",
        "\n",
        "*   Actions\n",
        "*   Sensors\n",
        "\n",
        "continuous vs. discreet\n",
        "\n",
        "# Example: Farmer, Wolf, Sheep, Oats, River Problem\n",
        "\n",
        "\n",
        "\n",
        "\n",
        "\n"
      ],
      "metadata": {
        "id": "BaNtZZYmQV67"
      }
    },
    {
      "cell_type": "code",
      "source": [
        "#STATE\n",
        "farmer_is_on_top = True\n",
        "wolf_is_on_top = True\n",
        "sheep_is_on_top = True\n",
        "oats_is_on_top = True\n",
        "\n",
        "oats_is_intact = True\n",
        "sheep_is_alive = True\n",
        "\n",
        "def print_state():\n",
        "  \"\"\"Prints all the parties on top of river bank, followed by =======,\n",
        "  then all parties below the river bank \"\"\"\n",
        "  #TODO\n",
        "  if farmer_is_on_top! == True:\n",
        "      print('FARMER')\n",
        "  if !wolf_is_on_top == True:\n",
        "      print('WOLF')\n",
        "  if !sheep_is_on_top == True:\n",
        "        print('SHEEP')\n",
        "  print('OATS') if (oats_is_on_top else'')\n",
        "  print('==================')\n",
        "  #TODO\n",
        "\n",
        "\n",
        "  #ACTIONS\n",
        "\n",
        "  def move (thing):\n",
        "    \"\"\" Updates STATE variables given that the farmer moves thing.\n",
        "    thing must be one of 'wolf', 'sheep', 'oats' \"\"\"\n",
        "    #TODO\n",
        "    ##################\n",
        "    print_state()"
      ],
      "metadata": {
        "id": "2I_-JDyORu0g"
      },
      "execution_count": null,
      "outputs": []
    }
  ]
}