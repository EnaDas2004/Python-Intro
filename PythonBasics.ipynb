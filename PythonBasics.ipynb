{
  "nbformat": 4,
  "nbformat_minor": 0,
  "metadata": {
    "colab": {
      "provenance": [],
      "authorship_tag": "ABX9TyOlHc4ADZYc0q9wIDp5yJ9q",
      "include_colab_link": true
    },
    "kernelspec": {
      "name": "python3",
      "display_name": "Python 3"
    },
    "language_info": {
      "name": "python"
    }
  },
  "cells": [
    {
      "cell_type": "markdown",
      "metadata": {
        "id": "view-in-github",
        "colab_type": "text"
      },
      "source": [
        "<a href=\"https://colab.research.google.com/github/EnaDas2004/Python-Intro/blob/main/PythonBasics.ipynb\" target=\"_parent\"><img src=\"https://colab.research.google.com/assets/colab-badge.svg\" alt=\"Open In Colab\"/></a>"
      ]
    },
    {
      "cell_type": "markdown",
      "source": [
        "### This Notebook Shows Python Basics\n",
        "Colab & Jupyter provides the ability to. make **notebooks**. Notebooks alow you to creat *text* and *code* cells. Text cells support MarkDown. Code cells require python.\n",
        "**Python Datatypes**\n",
        "* int\n",
        "* str\n",
        "* float\n",
        "* bool"
      ],
      "metadata": {
        "id": "rQbjyhuG9pYl"
      }
    },
    {
      "cell_type": "code",
      "execution_count": 2,
      "metadata": {
        "colab": {
          "base_uri": "https://localhost:8080/"
        },
        "id": "_HAw31XK5EXd",
        "outputId": "836e7090-01f5-45d0-e18f-0f22b75ed4e0"
      },
      "outputs": [
        {
          "output_type": "stream",
          "name": "stdout",
          "text": [
            "Hello World!\n"
          ]
        }
      ],
      "source": [
        "print('Hello World!')"
      ]
    },
    {
      "cell_type": "markdown",
      "source": [
        "### AI AGENT NOTES\n",
        "**the representation problem** - how to orepresent a problem in programming language."
      ],
      "metadata": {
        "id": "2xHTcYJlCYyi"
      }
    },
    {
      "cell_type": "code",
      "source": [
        "farmer_on_top = True\n"
      ],
      "metadata": {
        "id": "B1OviQmr8t1R"
      },
      "execution_count": null,
      "outputs": []
    }
  ]
}